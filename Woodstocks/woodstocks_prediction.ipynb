{
 "cells": [
  {
   "cell_type": "markdown",
   "id": "246d2e67",
   "metadata": {},
   "source": [
    "IMPORTS "
   ]
  },
  {
   "cell_type": "code",
   "execution_count": 1,
   "id": "200aaf4f",
   "metadata": {},
   "outputs": [],
   "source": [
    "import pickle\n",
    "import json\n",
    "import pandas as pd"
   ]
  },
  {
   "cell_type": "markdown",
   "id": "aae8e0c1",
   "metadata": {},
   "source": [
    "LOAD THE MODEL"
   ]
  },
  {
   "cell_type": "code",
   "execution_count": 15,
   "id": "f98b43c1",
   "metadata": {},
   "outputs": [
    {
     "name": "stdout",
     "output_type": "stream",
     "text": [
      "Model expects these features: ['Date', 'Close', 'High', 'Low', 'Open', 'Volume', 'avg_sentiment', 'tweet_count', 'next_day_change', '5_day_ma', '10_day_volatility', 'daily_return', 'sentiment_lag1', 'sentiment_ma3']\n"
     ]
    }
   ],
   "source": [
    "with open(\"models/best_model.pkl\", 'rb') as f:\n",
    "    model = pickle.load(f)\n",
    "    \n",
    "with open(\"models/model_metadata.json\", 'r') as f:\n",
    "    metadata = json.load(f)\n",
    "\n",
    "print(\"Model expects these features:\", metadata['features'])"
   ]
  },
  {
   "cell_type": "markdown",
   "id": "76033417",
   "metadata": {},
   "source": [
    "PREDICTION FUNCTION"
   ]
  },
  {
   "cell_type": "markdown",
   "id": "8848f327",
   "metadata": {},
   "source": [
    "GET THE FEATURES FROM META DATA"
   ]
  },
  {
   "cell_type": "code",
   "execution_count": 20,
   "id": "be9cfaae",
   "metadata": {},
   "outputs": [],
   "source": [
    "def predict(features):\n",
    "    \"\"\"\n",
    "    Predicts stock movement with complete feature validation\n",
    "    \n",
    "    Args:\n",
    "        features (dict): Dictionary containing ALL required features\n",
    "        \n",
    "    Returns:\n",
    "        dict: {\n",
    "            'predicted_change': float,\n",
    "            'direction': 'UP' or 'DOWN',\n",
    "            'confidence': percentage (0-99)\n",
    "        }\n",
    "    \"\"\"\n",
    "    # Get model's expected features (excluding metadata columns)\n",
    "    expected_features = [f for f in metadata['features'] \n",
    "                        if f not in ['Date', 'next_day_change']]\n",
    "    \n",
    "    # Validate input features\n",
    "    missing_features = set(expected_features) - set(features.keys())\n",
    "    if missing_features:\n",
    "        raise ValueError(f\"Missing {len(missing_features)} features: {missing_features}\")\n",
    "    \n",
    "    # Convert all features to float\n",
    "    processed_features = {}\n",
    "    for feature in expected_features:\n",
    "        try:\n",
    "            processed_features[feature] = float(features[feature])\n",
    "        except (ValueError, TypeError):\n",
    "            raise ValueError(f\"Feature '{feature}' must be numeric\")\n",
    "    \n",
    "    # Create DataFrame in correct feature order\n",
    "    input_df = pd.DataFrame([processed_features])[expected_features]\n",
    "    \n",
    "    # Make prediction\n",
    "    pred = model.predict(input_df)[0]\n",
    "    \n",
    "    return {\n",
    "        'predicted_change': float(pred),\n",
    "        'direction': 'UP' if pred > 0 else 'DOWN',\n",
    "        'confidence': min(99, round(abs(pred)*100, 1))\n",
    "    }\n"
   ]
  },
  {
   "cell_type": "code",
   "execution_count": 21,
   "id": "80bc41a1",
   "metadata": {},
   "outputs": [],
   "source": [
    "# Create complete test input\n",
    "test_features = {\n",
    "    'High': 255.50,          # Example value\n",
    "    'Low': 248.20,           # Example value\n",
    "    'Open': 252.30,          # Example value\n",
    "    'Close': 250.00,         # Example value\n",
    "    'Volume': 5000000,       # Example value\n",
    "    'daily_return': 0.015,   # Example value\n",
    "    'avg_sentiment': 0.15,\n",
    "    'tweet_count': 85,\n",
    "    '5_day_ma': 250.50,\n",
    "    '10_day_volatility': 0.02,\n",
    "    'sentiment_lag1': 0.12,\n",
    "    'sentiment_ma3': 0.14\n",
    "}"
   ]
  },
  {
   "cell_type": "code",
   "execution_count": 26,
   "id": "0009ac54",
   "metadata": {},
   "outputs": [
    {
     "name": "stdout",
     "output_type": "stream",
     "text": [
      "\n",
      "Prediction Result:\n",
      "Predicted Change: 0.0066\n",
      "Direction: UP\n",
      "Confidence: 0.7%\n"
     ]
    }
   ],
   "source": [
    "# Ensure all feature values are floats\n",
    "test_features = {k: float(v) for k, v in test_features.items()}\n",
    "\n",
    "# Make prediction\n",
    "try:\n",
    "    prediction = predict(test_features)\n",
    "    print(\"\\nPrediction Result:\")\n",
    "    print(f\"Predicted Change: {prediction['predicted_change']:.4f}\")\n",
    "    print(f\"Direction: {prediction['direction']}\")\n",
    "    print(f\"Confidence: {prediction['confidence']}%\")\n",
    "except ValueError as e:\n",
    "    print(f\"\\nError: {str(e)}\")\n",
    "    print(\"Please ensure your input contains all these features:\")\n",
    "    print(metadata['features'])"
   ]
  }
 ],
 "metadata": {
  "kernelspec": {
   "display_name": "base",
   "language": "python",
   "name": "python3"
  },
  "language_info": {
   "codemirror_mode": {
    "name": "ipython",
    "version": 3
   },
   "file_extension": ".py",
   "mimetype": "text/x-python",
   "name": "python",
   "nbconvert_exporter": "python",
   "pygments_lexer": "ipython3",
   "version": "3.11.7"
  }
 },
 "nbformat": 4,
 "nbformat_minor": 5
}
