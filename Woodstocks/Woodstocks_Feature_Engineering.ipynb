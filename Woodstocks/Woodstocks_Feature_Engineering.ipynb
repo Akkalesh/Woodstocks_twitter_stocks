{
 "cells": [
  {
   "cell_type": "markdown",
   "id": "c66741a2",
   "metadata": {},
   "source": [
    "LOAD THE PROCESSED DATA"
   ]
  },
  {
   "cell_type": "code",
   "execution_count": 1,
   "id": "4f3f8c60",
   "metadata": {},
   "outputs": [],
   "source": [
    "import pandas as pd\n",
    "df = pd.read_csv(\"data/processed/TSLA_final.csv\", parse_dates=['Date'])"
   ]
  },
  {
   "cell_type": "markdown",
   "id": "948aa138",
   "metadata": {},
   "source": [
    "ADDING TECHNICAL INDICATORS"
   ]
  },
  {
   "cell_type": "code",
   "execution_count": 2,
   "id": "323cb2c3",
   "metadata": {},
   "outputs": [],
   "source": [
    "df['5_day_ma'] = df['Close'].rolling(5).mean()          # Moving Average\n",
    "df['10_day_volatility'] = df['Close'].rolling(10).std() # Volatility \n",
    "df['daily_return'] = df['Close'].pct_change()           # Daily Returns"
   ]
  },
  {
   "cell_type": "markdown",
   "id": "5a5ecc6d",
   "metadata": {},
   "source": [
    "LAGGED SENNTIMENT FEATURES"
   ]
  },
  {
   "cell_type": "code",
   "execution_count": 3,
   "id": "680ae4a2",
   "metadata": {},
   "outputs": [],
   "source": [
    "df['sentiment_lag1'] = df['avg_sentiment'].shift(1)     # Previous day sentiment\n",
    "df['sentiment_ma3'] = df['avg_sentiment'].rolling(3).mean()"
   ]
  },
  {
   "cell_type": "markdown",
   "id": "7e6272c8",
   "metadata": {},
   "source": [
    "SAVE THE ENHANCED DATA"
   ]
  },
  {
   "cell_type": "code",
   "execution_count": 4,
   "id": "c96e8a4e",
   "metadata": {},
   "outputs": [
    {
     "name": "stdout",
     "output_type": "stream",
     "text": [
      "Enhanced dataset saved with new features\n"
     ]
    }
   ],
   "source": [
    "df.to_csv(\"data/processed/TSLA_enhanced.csv\", index=False)\n",
    "print(\"Enhanced dataset saved with new features\")"
   ]
  }
 ],
 "metadata": {
  "kernelspec": {
   "display_name": "base",
   "language": "python",
   "name": "python3"
  },
  "language_info": {
   "codemirror_mode": {
    "name": "ipython",
    "version": 3
   },
   "file_extension": ".py",
   "mimetype": "text/x-python",
   "name": "python",
   "nbconvert_exporter": "python",
   "pygments_lexer": "ipython3",
   "version": "3.11.7"
  }
 },
 "nbformat": 4,
 "nbformat_minor": 5
}
