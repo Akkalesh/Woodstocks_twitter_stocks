{
 "cells": [
  {
   "cell_type": "markdown",
   "id": "cd65c1ff",
   "metadata": {},
   "source": [
    "IMPORTS"
   ]
  },
  {
   "cell_type": "code",
   "execution_count": 1,
   "id": "6455fafd",
   "metadata": {},
   "outputs": [],
   "source": [
    "import pandas as pd\n",
    "import pickle\n",
    "import json\n",
    "from sklearn.model_selection import train_test_split\n",
    "from sklearn.metrics import (mean_absolute_error, mean_squared_error, \n",
    "                            r2_score, accuracy_score, f1_score)\n",
    "import numpy as np"
   ]
  },
  {
   "cell_type": "markdown",
   "id": "14514854",
   "metadata": {},
   "source": [
    "LOAD EVALUATION RESULTS"
   ]
  },
  {
   "cell_type": "code",
   "execution_count": 2,
   "id": "7457649b",
   "metadata": {},
   "outputs": [],
   "source": [
    "# Load and prepare your data (must run this first!)\n",
    "df = pd.read_csv(\"data/processed/TSLA_enhanced.csv\", parse_dates=['Date'])\n",
    "df = df.dropna()  # Handle missing values\n",
    "\n",
    "# Define features and target\n",
    "features = df.drop(columns=['next_day_change', 'Date'])\n",
    "target = df['next_day_change']\n",
    "\n",
    "# Perform train-test split (THIS CREATES X_test)\n",
    "X_train, X_test, y_train, y_test = train_test_split(\n",
    "    features, target, test_size=0.2, shuffle=False, random_state=42\n",
    ")"
   ]
  },
  {
   "cell_type": "code",
   "execution_count": 3,
   "id": "21a2b9c2",
   "metadata": {},
   "outputs": [],
   "source": [
    "results = {}\n",
    "model_names = [\"Linear Regression\", \"SVM\", \"Random Forest\", \"XGBoost\"]\n",
    "\n",
    "for name in model_names:\n",
    "    try:\n",
    "        with open(f\"models/{name.lower().replace(' ', '_')}.pkl\", 'rb') as f:\n",
    "            model = pickle.load(f)\n",
    "        \n",
    "        # Calculate metrics if not already stored\n",
    "        y_pred = model.predict(X_test)\n",
    "        results[name] = {\n",
    "            'MAE': mean_absolute_error(y_test, y_pred),\n",
    "            'RMSE': np.sqrt(mean_squared_error(y_test, y_pred)),\n",
    "            'R2': r2_score(y_test, y_pred),\n",
    "            'Accuracy': accuracy_score((y_test > 0), (y_pred > 0)),\n",
    "            'F1': f1_score((y_test > 0), (y_pred > 0))\n",
    "        }\n",
    "    except FileNotFoundError:\n",
    "        print(f\"Model file not found: {name}\")\n",
    "        continue\n"
   ]
  },
  {
   "cell_type": "markdown",
   "id": "0849d278",
   "metadata": {},
   "source": [
    "SELECTION CRITERIA"
   ]
  },
  {
   "cell_type": "code",
   "execution_count": 4,
   "id": "f1da180c",
   "metadata": {},
   "outputs": [],
   "source": [
    "weights = {\n",
    "    'R2': 0.5,\n",
    "    'F1': 0.3,\n",
    "    'RMSE': -0.2  # Negative because lower is better\n",
    "}\n",
    "\n",
    "model_scores = []\n",
    "for name in model_names:\n",
    "    if name in results:  # Check if model was evaluated\n",
    "        score = 0\n",
    "        for metric, weight in weights.items():\n",
    "            # Access metric directly from the dictionary\n",
    "            score += results[name][metric] * weight\n",
    "        model_scores.append((name, score))"
   ]
  },
  {
   "cell_type": "markdown",
   "id": "3265bfe7",
   "metadata": {},
   "source": [
    "SELECT THE BEST MODEL"
   ]
  },
  {
   "cell_type": "code",
   "execution_count": 5,
   "id": "8da7929c",
   "metadata": {},
   "outputs": [
    {
     "name": "stdout",
     "output_type": "stream",
     "text": [
      "Best Model: XGBoost\n"
     ]
    }
   ],
   "source": [
    "best_model_name = max(model_scores, key=lambda x: x[1])[0]\n",
    "print(f\"Best Model: {best_model_name}\")\n",
    "\n",
    "with open(f\"models/{best_model_name.lower().replace(' ', '_')}.pkl\", 'rb') as f:\n",
    "    best_model = pickle.load(f)"
   ]
  },
  {
   "cell_type": "markdown",
   "id": "6958ba0d",
   "metadata": {},
   "source": [
    "SAVE THE BEST MODEL WITH METADATA"
   ]
  },
  {
   "cell_type": "code",
   "execution_count": 6,
   "id": "e045d5f6",
   "metadata": {},
   "outputs": [],
   "source": [
    "# After selecting the best model\n",
    "best_model_name = max(model_scores, key=lambda x: x[1])[0]\n",
    "\n",
    "with open(f\"models/{best_model_name.lower().replace(' ', '_')}.pkl\", 'rb') as f:\n",
    "    best_model = pickle.load(f)\n",
    "\n",
    "# Create metadata \n",
    "model_metadata = {\n",
    "    'model_name': best_model_name,\n",
    "    'features': list(pd.read_csv(\"data/processed/TSLA_enhanced.csv\").columns),\n",
    "    'metrics': results[best_model_name],  # This is already a dictionary\n",
    "    'training_date': pd.Timestamp.now().strftime('%Y-%m-%d')\n",
    "}\n",
    "\n",
    "# Save to files\n",
    "with open(\"models/best_model.pkl\", 'wb') as f:\n",
    "    pickle.dump(best_model, f)\n",
    "    \n",
    "with open(\"models/model_metadata.json\", 'w') as f:\n",
    "    json.dump(model_metadata, f)"
   ]
  }
 ],
 "metadata": {
  "kernelspec": {
   "display_name": "base",
   "language": "python",
   "name": "python3"
  },
  "language_info": {
   "codemirror_mode": {
    "name": "ipython",
    "version": 3
   },
   "file_extension": ".py",
   "mimetype": "text/x-python",
   "name": "python",
   "nbconvert_exporter": "python",
   "pygments_lexer": "ipython3",
   "version": "3.11.7"
  }
 },
 "nbformat": 4,
 "nbformat_minor": 5
}
