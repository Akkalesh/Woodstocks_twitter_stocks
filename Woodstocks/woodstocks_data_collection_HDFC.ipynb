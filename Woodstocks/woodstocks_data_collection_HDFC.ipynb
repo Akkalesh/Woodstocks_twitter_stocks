{
 "cells": [
  {
   "cell_type": "markdown",
   "id": "d94e6907",
   "metadata": {},
   "source": [
    "IMPORT LIBRARIES"
   ]
  },
  {
   "cell_type": "markdown",
   "id": "07e8db34",
   "metadata": {},
   "source": [
    "INSTALLING SNSCRAPE - ALTERNATIVE FOR TWITTER API BECAUSE OF FEW RESTRICTIONS"
   ]
  },
  {
   "cell_type": "code",
   "execution_count": 35,
   "id": "0886082b",
   "metadata": {},
   "outputs": [],
   "source": [
    "from config import TWITTER_CREDS, STOCK_SYMBOL, LOOKBACK_DAYS\n",
    "import tweepy\n",
    "import yfinance as yf\n",
    "import pandas as pd\n",
    "from datetime import datetime, timedelta,time\n",
    "import os\n",
    "import snscrape.modules.twitter as sntwitter\n",
    "from dotenv import load_dotenv"
   ]
  },
  {
   "cell_type": "markdown",
   "id": "650def85",
   "metadata": {},
   "source": [
    "CONFIGURATION"
   ]
  },
  {
   "cell_type": "code",
   "execution_count": 26,
   "id": "f1d59eee",
   "metadata": {},
   "outputs": [],
   "source": [
    "STOCK_SYMBOL = \"SBIN.NS\"  # SBI NSE symbol\n",
    "LOOKBACK_DAYS = 30\n",
    "os.makedirs(\"data/raw\", exist_ok=True)"
   ]
  },
  {
   "cell_type": "markdown",
   "id": "b58d9560",
   "metadata": {},
   "source": [
    "TWITTER AUTHENTICATION"
   ]
  },
  {
   "cell_type": "code",
   "execution_count": 36,
   "id": "d1cb7155",
   "metadata": {},
   "outputs": [],
   "source": [
    "# Load config\n",
    "load_dotenv()\n",
    "TWITTER_API_KEY = os.getenv('TWITTER_API_KEY')\n",
    "TWITTER_API_SECRET = os.getenv('TWITTER_API_SECRET')\n",
    "TWITTER_ACCESS_TOKEN = os.getenv('TWITTER_ACCESS_TOKEN')\n",
    "TWITTER_ACCESS_SECRET = os.getenv('TWITTER_ACCESS_SECRET')"
   ]
  },
  {
   "cell_type": "markdown",
   "id": "173ca26a",
   "metadata": {},
   "source": [
    "SEARCH QUERY"
   ]
  },
  {
   "cell_type": "code",
   "execution_count": 40,
   "id": "341d2080",
   "metadata": {},
   "outputs": [
    {
     "name": "stdout",
     "output_type": "stream",
     "text": [
      "🔄 Collecting tweets for HDFCBANK.NS...\n"
     ]
    }
   ],
   "source": [
    "start_date = (datetime.now() - timedelta(days=LOOKBACK_DAYS)).strftime('%Y-%m-%d')\n",
    "end_date = datetime.now().strftime('%Y-%m-%d')\n",
    "query = f\"\"\"({STOCK_SYMBOL} OR SBI OR \"State Bank of India\" OR #SBI) \n",
    "since:{start_date} until:{end_date} -is:retweet -is:reply lang:en\"\"\"\n",
    "\n",
    "print(f\"🔄 Collecting tweets for {STOCK_SYMBOL}...\")"
   ]
  },
  {
   "cell_type": "markdown",
   "id": "6c0ed169",
   "metadata": {},
   "source": [
    "FETCH TWEETS"
   ]
  },
  {
   "cell_type": "markdown",
   "id": "9ea4585f",
   "metadata": {},
   "source": [
    "===== OPTION 1: TWEEPY (Twitter API) ====="
   ]
  },
  {
   "cell_type": "code",
   "execution_count": null,
   "id": "59d5c17d",
   "metadata": {},
   "outputs": [
    {
     "name": "stdout",
     "output_type": "stream",
     "text": [
      "\n",
      "Attempting Tweepy (Twitter API)...\n",
      "❌ Tweepy failed: 403 Forbidden\n",
      "453 - You currently have access to a subset of X API V2 endpoints and limited v1.1 endpoints (e.g. media post, oauth) only. If you need access to this endpoint, you may need a different access level. You can learn more here: https://developer.x.com/en/portal/product\n",
      "Falling back to snscrape...\n"
     ]
    }
   ],
   "source": [
    "\n",
    "try:\n",
    "    print(\"\\nAttempting Tweepy (Twitter API)...\")\n",
    "    auth = tweepy.OAuthHandler(TWITTER_API_KEY, TWITTER_API_SECRET)\n",
    "    auth.set_access_token(TWITTER_ACCESS_TOKEN, TWITTER_ACCESS_SECRET)\n",
    "    api = tweepy.API(auth, wait_on_rate_limit=True)\n",
    "    \n",
    "    tweets = []\n",
    "    for tweet in tweepy.Cursor(api.search_tweets,\n",
    "                              q=query,\n",
    "                              lang=\"en\",\n",
    "                              tweet_mode='extended').items(500):  # Reduced for testing\n",
    "        tweets.append({\n",
    "            'date': tweet.created_at,\n",
    "            'text': tweet.full_text,\n",
    "            'user': tweet.user.username  # Changed from screen_name to username\n",
    "        })\n",
    "    \n",
    "    # Standardized filename: SBIN.NS_tweets.csv\n",
    "    tweets_df = pd.DataFrame(tweets)\n",
    "    tweets_df.to_csv(f\"data/raw/{STOCK_SYMBOL}_tweets.csv\", index=False)\n",
    "    print(f\"✅ Tweepy: Saved {len(tweets_df)} tweets to {STOCK_SYMBOL}_tweets.csv\")\n",
    "\n",
    "except Exception as e:\n",
    "    print(f\"❌ Tweepy failed: {e}\")\n",
    "    print(\"Falling back to snscrape...\")"
   ]
  },
  {
   "cell_type": "markdown",
   "id": "21a8ccea",
   "metadata": {},
   "source": [
    " ===== OPTION 2: SNSCRAPE (NO API) ====="
   ]
  },
  {
   "cell_type": "code",
   "execution_count": null,
   "id": "e047bc1e",
   "metadata": {},
   "outputs": [
    {
     "name": "stdout",
     "output_type": "stream",
     "text": [
      "\n",
      "Trying snscrape...\n"
     ]
    },
    {
     "name": "stderr",
     "output_type": "stream",
     "text": [
      "Error retrieving https://api.twitter.com/2/search/adaptive.json?include_profile_interstitial_type=1&include_blocking=1&include_blocked_by=1&include_followed_by=1&include_want_retweets=1&include_mute_edge=1&include_can_dm=1&include_can_media_tag=1&include_ext_has_nft_avatar=1&include_ext_is_blue_verified=1&include_ext_verified_type=1&skip_status=1&cards_platform=Web-12&include_cards=1&include_ext_alt_text=true&include_ext_limited_action_results=false&include_quote_count=true&include_reply_count=1&tweet_mode=extended&include_ext_collab_control=true&include_ext_views=true&include_entities=true&include_user_entities=true&include_ext_media_color=true&include_ext_media_availability=true&include_ext_sensitive_media_warning=true&include_ext_trusted_friends_metadata=true&send_error_codes=true&simple_quoted_tweet=true&q=%28HDFCBANK.NS+OR+SBI+OR+%22State+Bank+of+India%22+OR+%23SBI%29+%0Asince%3A2025-02-18+until%3A2025-04-19+-is%3Aretweet+-is%3Areply+lang%3Aen&tweet_search_mode=live&count=20&query_source=spelling_expansion_revert_click&pc=1&spelling_corrections=1&include_ext_edit_control=true&ext=mediaStats%2ChighlightedLabel%2ChasNftAvatar%2CvoiceInfo%2Cenrichments%2CsuperFollowMetadata%2CunmentionInfo%2CeditControl%2Ccollab_control%2Cvibe: blocked (404)\n",
      "4 requests to https://api.twitter.com/2/search/adaptive.json?include_profile_interstitial_type=1&include_blocking=1&include_blocked_by=1&include_followed_by=1&include_want_retweets=1&include_mute_edge=1&include_can_dm=1&include_can_media_tag=1&include_ext_has_nft_avatar=1&include_ext_is_blue_verified=1&include_ext_verified_type=1&skip_status=1&cards_platform=Web-12&include_cards=1&include_ext_alt_text=true&include_ext_limited_action_results=false&include_quote_count=true&include_reply_count=1&tweet_mode=extended&include_ext_collab_control=true&include_ext_views=true&include_entities=true&include_user_entities=true&include_ext_media_color=true&include_ext_media_availability=true&include_ext_sensitive_media_warning=true&include_ext_trusted_friends_metadata=true&send_error_codes=true&simple_quoted_tweet=true&q=%28HDFCBANK.NS+OR+SBI+OR+%22State+Bank+of+India%22+OR+%23SBI%29+%0Asince%3A2025-02-18+until%3A2025-04-19+-is%3Aretweet+-is%3Areply+lang%3Aen&tweet_search_mode=live&count=20&query_source=spelling_expansion_revert_click&pc=1&spelling_corrections=1&include_ext_edit_control=true&ext=mediaStats%2ChighlightedLabel%2ChasNftAvatar%2CvoiceInfo%2Cenrichments%2CsuperFollowMetadata%2CunmentionInfo%2CeditControl%2Ccollab_control%2Cvibe failed, giving up.\n",
      "Errors: blocked (403), blocked (404), blocked (404), blocked (404)\n"
     ]
    },
    {
     "name": "stdout",
     "output_type": "stream",
     "text": [
      "❌ snscrape failed: 4 requests to https://api.twitter.com/2/search/adaptive.json?include_profile_interstitial_type=1&include_blocking=1&include_blocked_by=1&include_followed_by=1&include_want_retweets=1&include_mute_edge=1&include_can_dm=1&include_can_media_tag=1&include_ext_has_nft_avatar=1&include_ext_is_blue_verified=1&include_ext_verified_type=1&skip_status=1&cards_platform=Web-12&include_cards=1&include_ext_alt_text=true&include_ext_limited_action_results=false&include_quote_count=true&include_reply_count=1&tweet_mode=extended&include_ext_collab_control=true&include_ext_views=true&include_entities=true&include_user_entities=true&include_ext_media_color=true&include_ext_media_availability=true&include_ext_sensitive_media_warning=true&include_ext_trusted_friends_metadata=true&send_error_codes=true&simple_quoted_tweet=true&q=%28HDFCBANK.NS+OR+SBI+OR+%22State+Bank+of+India%22+OR+%23SBI%29+%0Asince%3A2025-02-18+until%3A2025-04-19+-is%3Aretweet+-is%3Areply+lang%3Aen&tweet_search_mode=live&count=20&query_source=spelling_expansion_revert_click&pc=1&spelling_corrections=1&include_ext_edit_control=true&ext=mediaStats%2ChighlightedLabel%2ChasNftAvatar%2CvoiceInfo%2Cenrichments%2CsuperFollowMetadata%2CunmentionInfo%2CeditControl%2Ccollab_control%2Cvibe failed, giving up.\n"
     ]
    }
   ],
   "source": [
    "\n",
    "try:\n",
    "        print(\"\\nTrying snscrape...\")\n",
    "        tweets = []\n",
    "        for i, tweet in enumerate(\n",
    "            sntwitter.TwitterSearchScraper(query).get_items()\n",
    "        ):\n",
    "            if i >= 500:  # Limit to 500 tweets\n",
    "                break\n",
    "            tweets.append({\n",
    "                'date': tweet.date,\n",
    "                'text': tweet.content,\n",
    "                'user': tweet.user.username\n",
    "            })\n",
    "\n",
    "        # Standardized filename: SBIN.NS_tweets.csv\n",
    "        tweets_df = pd.DataFrame(tweets)\n",
    "        tweets_df.to_csv(f\"data/raw/{STOCK_SYMBOL}_tweets.csv\", index=False)\n",
    "        print(f\"✅ snscrape: Saved {len(tweets_df)} tweets to {STOCK_SYMBOL}_tweets.csv\")\n",
    "\n",
    "except Exception as e:\n",
    "        print(f\"❌ snscrape failed: {e}\")"
   ]
  },
  {
   "cell_type": "markdown",
   "id": "33ae666e",
   "metadata": {},
   "source": [
    "===== OPTION 3: YFINANCE ====="
   ]
  },
  {
   "cell_type": "code",
   "execution_count": 44,
   "id": "823fc257",
   "metadata": {},
   "outputs": [
    {
     "name": "stdout",
     "output_type": "stream",
     "text": [
      "\n",
      "Fetching stock data...\n"
     ]
    },
    {
     "name": "stderr",
     "output_type": "stream",
     "text": [
      "[*********************100%***********************]  1 of 1 completed"
     ]
    },
    {
     "name": "stdout",
     "output_type": "stream",
     "text": [
      "✅ Stock data saved to HDFCBANK.NS_tweets.csv\n"
     ]
    },
    {
     "name": "stderr",
     "output_type": "stream",
     "text": [
      "\n"
     ]
    }
   ],
   "source": [
    "# ===== FETCH STOCK DATA (YFINANCE) =====\n",
    "try:\n",
    "    print(\"\\nFetching stock data...\")\n",
    "    stock_df = yf.download(STOCK_SYMBOL, period=f\"{LOOKBACK_DAYS}d\")\n",
    "    # Standardized to use _tweets.csv pattern for all files\n",
    "    stock_df.to_csv(f\"data/raw/{STOCK_SYMBOL}_tweets.csv\")  # Now using _tweets.csv\n",
    "    print(f\"✅ Stock data saved to {STOCK_SYMBOL}_tweets.csv\")\n",
    "except Exception as e:\n",
    "    print(f\"❌ Yahoo Finance Error: {e}\")"
   ]
  }
 ],
 "metadata": {
  "kernelspec": {
   "display_name": "base",
   "language": "python",
   "name": "python3"
  },
  "language_info": {
   "codemirror_mode": {
    "name": "ipython",
    "version": 3
   },
   "file_extension": ".py",
   "mimetype": "text/x-python",
   "name": "python",
   "nbconvert_exporter": "python",
   "pygments_lexer": "ipython3",
   "version": "3.11.7"
  }
 },
 "nbformat": 4,
 "nbformat_minor": 5
}
