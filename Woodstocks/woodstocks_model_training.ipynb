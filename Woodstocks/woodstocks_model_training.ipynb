{
 "cells": [
  {
   "cell_type": "markdown",
   "id": "c7331548",
   "metadata": {},
   "source": [
    "IMPORTS"
   ]
  },
  {
   "cell_type": "code",
   "execution_count": 2,
   "id": "05526469",
   "metadata": {},
   "outputs": [
    {
     "name": "stdout",
     "output_type": "stream",
     "text": [
      "Requirement already satisfied: xgboost in c:\\users\\dell\\anaconda3\\lib\\site-packages (3.0.0)\n",
      "Requirement already satisfied: numpy in c:\\users\\dell\\anaconda3\\lib\\site-packages (from xgboost) (1.26.4)\n",
      "Requirement already satisfied: scipy in c:\\users\\dell\\anaconda3\\lib\\site-packages (from xgboost) (1.11.4)\n"
     ]
    }
   ],
   "source": [
    "!pip install xgboost"
   ]
  },
  {
   "cell_type": "code",
   "execution_count": 3,
   "id": "7ca079c8",
   "metadata": {},
   "outputs": [],
   "source": [
    "import pandas as pd\n",
    "import numpy as np\n",
    "from sklearn.model_selection import train_test_split\n",
    "from sklearn.linear_model import LinearRegression\n",
    "from sklearn.svm import SVR\n",
    "from sklearn.ensemble import RandomForestRegressor\n",
    "from xgboost import XGBRegressor\n",
    "import pickle"
   ]
  },
  {
   "cell_type": "markdown",
   "id": "4a0485d5",
   "metadata": {},
   "source": [
    "LOAD DATA"
   ]
  },
  {
   "cell_type": "code",
   "execution_count": 4,
   "id": "88080911",
   "metadata": {},
   "outputs": [],
   "source": [
    "df = pd.read_csv(\"data/processed/TSLA_enhanced.csv\", parse_dates=['Date'])\n",
    "df = df.dropna()  # Drop rows with any NaN values\n",
    "features = df.drop(columns=['next_day_change', 'Date'])\n",
    "target = df['next_day_change']\n",
    "\n",
    "# Time-based split\n",
    "X_train, X_test, y_train, y_test = train_test_split(\n",
    "    features, target, test_size=0.2, shuffle=True, random_state=42\n",
    ")"
   ]
  },
  {
   "cell_type": "markdown",
   "id": "afe9b774",
   "metadata": {},
   "source": [
    "INITIALIZE MODELS"
   ]
  },
  {
   "cell_type": "code",
   "execution_count": 5,
   "id": "a8a2ee3b",
   "metadata": {},
   "outputs": [],
   "source": [
    "models = {\n",
    "    \"Linear Regression\": LinearRegression(),\n",
    "    \"SVM\": SVR(kernel='rbf', C=1.0, epsilon=0.1),\n",
    "    \"Random Forest\": RandomForestRegressor(n_estimators=200, max_depth=10, random_state=42),\n",
    "    \"XGBoost\": XGBRegressor(n_estimators=150, learning_rate=0.1, max_depth=5, random_state=42)\n",
    "}"
   ]
  },
  {
   "cell_type": "markdown",
   "id": "15ae79db",
   "metadata": {},
   "source": [
    "TRAIN MODELS"
   ]
  },
  {
   "cell_type": "code",
   "execution_count": 6,
   "id": "122079b0",
   "metadata": {},
   "outputs": [
    {
     "name": "stdout",
     "output_type": "stream",
     "text": [
      "✅ Linear Regression trained\n",
      "✅ SVM trained\n",
      "✅ Random Forest trained\n",
      "✅ XGBoost trained\n"
     ]
    }
   ],
   "source": [
    "for name, model in models.items():\n",
    "    model.fit(X_train, y_train)\n",
    "    print(f\"✅ {name} trained\")\n",
    "    \n",
    "    # Save each model immediately\n",
    "    with open(f\"models/{name.lower().replace(' ', '_')}.pkl\", 'wb') as f:\n",
    "        pickle.dump(model, f)"
   ]
  }
 ],
 "metadata": {
  "kernelspec": {
   "display_name": "base",
   "language": "python",
   "name": "python3"
  },
  "language_info": {
   "codemirror_mode": {
    "name": "ipython",
    "version": 3
   },
   "file_extension": ".py",
   "mimetype": "text/x-python",
   "name": "python",
   "nbconvert_exporter": "python",
   "pygments_lexer": "ipython3",
   "version": "3.11.7"
  }
 },
 "nbformat": 4,
 "nbformat_minor": 5
}
