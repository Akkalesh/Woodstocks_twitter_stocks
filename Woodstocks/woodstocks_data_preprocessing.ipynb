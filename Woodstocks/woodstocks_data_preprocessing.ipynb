{
 "cells": [
  {
   "cell_type": "markdown",
   "id": "4dfebcc9",
   "metadata": {},
   "source": [
    "INSTALLATION AND IMPORTING"
   ]
  },
  {
   "cell_type": "code",
   "execution_count": 8,
   "id": "721ccc42",
   "metadata": {},
   "outputs": [],
   "source": [
    "import pandas as pd\n",
    "import re\n",
    "import nltk\n",
    "import os\n",
    "from nltk.corpus import stopwords\n",
    "from nltk.tokenize import word_tokenize\n",
    "from nltk.stem import WordNetLemmatizer\n",
    "from textblob import TextBlob"
   ]
  },
  {
   "cell_type": "code",
   "execution_count": 9,
   "id": "96061631",
   "metadata": {},
   "outputs": [
    {
     "name": "stderr",
     "output_type": "stream",
     "text": [
      "[nltk_data] Downloading package punkt to\n",
      "[nltk_data]     C:\\Users\\DELL\\AppData\\Roaming\\nltk_data...\n",
      "[nltk_data]   Package punkt is already up-to-date!\n",
      "[nltk_data] Downloading package stopwords to\n",
      "[nltk_data]     C:\\Users\\DELL\\AppData\\Roaming\\nltk_data...\n",
      "[nltk_data]   Package stopwords is already up-to-date!\n",
      "[nltk_data] Downloading package wordnet to\n",
      "[nltk_data]     C:\\Users\\DELL\\AppData\\Roaming\\nltk_data...\n",
      "[nltk_data]   Package wordnet is already up-to-date!\n"
     ]
    },
    {
     "data": {
      "text/plain": [
       "True"
      ]
     },
     "execution_count": 9,
     "metadata": {},
     "output_type": "execute_result"
    }
   ],
   "source": [
    "nltk.download(['punkt', 'stopwords', 'wordnet'])"
   ]
  },
  {
   "cell_type": "markdown",
   "id": "7cb45271",
   "metadata": {},
   "source": [
    "CONFIGURATION"
   ]
  },
  {
   "cell_type": "code",
   "execution_count": 10,
   "id": "3663dea8",
   "metadata": {},
   "outputs": [],
   "source": [
    "STOCK_SYMBOL = \"TSLA\"  # Change to your target stock\n",
    "os.makedirs(\"data/processed\", exist_ok=True)"
   ]
  },
  {
   "cell_type": "markdown",
   "id": "9bf2a110",
   "metadata": {},
   "source": [
    "DATA LOADING"
   ]
  },
  {
   "cell_type": "code",
   "execution_count": 11,
   "id": "defb0c5c",
   "metadata": {},
   "outputs": [
    {
     "name": "stdout",
     "output_type": "stream",
     "text": [
      " Data loaded successfully\n",
      "- Tweets: 37422 rows\n",
      "- Prices: 254 rows\n"
     ]
    },
    {
     "data": {
      "text/html": [
       "<div>\n",
       "<style scoped>\n",
       "    .dataframe tbody tr th:only-of-type {\n",
       "        vertical-align: middle;\n",
       "    }\n",
       "\n",
       "    .dataframe tbody tr th {\n",
       "        vertical-align: top;\n",
       "    }\n",
       "\n",
       "    .dataframe thead th {\n",
       "        text-align: right;\n",
       "    }\n",
       "</style>\n",
       "<table border=\"1\" class=\"dataframe\">\n",
       "  <thead>\n",
       "    <tr style=\"text-align: right;\">\n",
       "      <th></th>\n",
       "      <th>date</th>\n",
       "      <th>text</th>\n",
       "    </tr>\n",
       "  </thead>\n",
       "  <tbody>\n",
       "    <tr>\n",
       "      <th>0</th>\n",
       "      <td>2022-09-29 23:41:16+00:00</td>\n",
       "      <td>Mainstream media has done an amazing job at br...</td>\n",
       "    </tr>\n",
       "    <tr>\n",
       "      <th>1</th>\n",
       "      <td>2022-09-29 23:24:43+00:00</td>\n",
       "      <td>Tesla delivery estimates are at around 364k fr...</td>\n",
       "    </tr>\n",
       "  </tbody>\n",
       "</table>\n",
       "</div>"
      ],
      "text/plain": [
       "                       date                                               text\n",
       "0 2022-09-29 23:41:16+00:00  Mainstream media has done an amazing job at br...\n",
       "1 2022-09-29 23:24:43+00:00  Tesla delivery estimates are at around 364k fr..."
      ]
     },
     "metadata": {},
     "output_type": "display_data"
    },
    {
     "data": {
      "text/html": [
       "<div>\n",
       "<style scoped>\n",
       "    .dataframe tbody tr th:only-of-type {\n",
       "        vertical-align: middle;\n",
       "    }\n",
       "\n",
       "    .dataframe tbody tr th {\n",
       "        vertical-align: top;\n",
       "    }\n",
       "\n",
       "    .dataframe thead th {\n",
       "        text-align: right;\n",
       "    }\n",
       "</style>\n",
       "<table border=\"1\" class=\"dataframe\">\n",
       "  <thead>\n",
       "    <tr style=\"text-align: right;\">\n",
       "      <th></th>\n",
       "      <th>Date</th>\n",
       "      <th>Close</th>\n",
       "      <th>High</th>\n",
       "      <th>Low</th>\n",
       "      <th>Open</th>\n",
       "      <th>Volume</th>\n",
       "    </tr>\n",
       "  </thead>\n",
       "  <tbody>\n",
       "    <tr>\n",
       "      <th>0</th>\n",
       "      <td>NaT</td>\n",
       "      <td>TSLA</td>\n",
       "      <td>TSLA</td>\n",
       "      <td>TSLA</td>\n",
       "      <td>TSLA</td>\n",
       "      <td>TSLA</td>\n",
       "    </tr>\n",
       "    <tr>\n",
       "      <th>1</th>\n",
       "      <td>2021-09-30</td>\n",
       "      <td>258.49334716796875</td>\n",
       "      <td>263.0433349609375</td>\n",
       "      <td>258.3333435058594</td>\n",
       "      <td>260.3333435058594</td>\n",
       "      <td>53868000</td>\n",
       "    </tr>\n",
       "  </tbody>\n",
       "</table>\n",
       "</div>"
      ],
      "text/plain": [
       "        Date               Close               High                Low  \\\n",
       "0        NaT                TSLA               TSLA               TSLA   \n",
       "1 2021-09-30  258.49334716796875  263.0433349609375  258.3333435058594   \n",
       "\n",
       "                Open    Volume  \n",
       "0               TSLA      TSLA  \n",
       "1  260.3333435058594  53868000  "
      ]
     },
     "metadata": {},
     "output_type": "display_data"
    }
   ],
   "source": [
    "def load_data():\n",
    "    \"\"\"Load and validate raw data files\"\"\"\n",
    "    # Load files\n",
    "    tweets_path = f\"data/raw/{STOCK_SYMBOL}_tweets.csv\"\n",
    "    prices_path = f\"data/raw/{STOCK_SYMBOL}_prices.csv\"\n",
    "    \n",
    "    # Read data\n",
    "    tweets_df = pd.read_csv(tweets_path)\n",
    "    stock_df = pd.read_csv(prices_path, parse_dates=['Date'])\n",
    "\n",
    "    # Auto-detect columns (case-insensitive)\n",
    "    date_col = next((c for c in tweets_df.columns if 'date' in c.lower()), None)\n",
    "    text_col = next((c for c in tweets_df.columns if 'text' in c.lower() or 'tweet' in c.lower()), None)\n",
    "    \n",
    "    if not date_col or not text_col:\n",
    "        print(\" Available columns in tweets file:\", tweets_df.columns.tolist())\n",
    "        raise ValueError(\"Need columns: 'date' and 'text' (or similar names)\")\n",
    "\n",
    "    # Standardize column names\n",
    "    tweets_df = tweets_df.rename(columns={\n",
    "        date_col: 'date',\n",
    "        text_col: 'text'\n",
    "    })\n",
    "    tweets_df['date'] = pd.to_datetime(tweets_df['date'])\n",
    "    \n",
    "    print(\" Data loaded successfully\")\n",
    "    print(f\"- Tweets: {len(tweets_df)} rows\")\n",
    "    print(f\"- Prices: {len(stock_df)} rows\")\n",
    "    \n",
    "    return tweets_df, stock_df\n",
    "\n",
    "# Execute loading\n",
    "tweets_df, stock_df = load_data()\n",
    "display(tweets_df.head(2))\n",
    "display(stock_df.head(2))"
   ]
  },
  {
   "cell_type": "markdown",
   "id": "647562f4",
   "metadata": {},
   "source": [
    "DATA CLEANING"
   ]
  },
  {
   "cell_type": "code",
   "execution_count": 12,
   "id": "9eb5b170",
   "metadata": {},
   "outputs": [
    {
     "name": "stdout",
     "output_type": "stream",
     "text": [
      "Text cleaning complete\n"
     ]
    },
    {
     "data": {
      "text/html": [
       "<div>\n",
       "<style scoped>\n",
       "    .dataframe tbody tr th:only-of-type {\n",
       "        vertical-align: middle;\n",
       "    }\n",
       "\n",
       "    .dataframe tbody tr th {\n",
       "        vertical-align: top;\n",
       "    }\n",
       "\n",
       "    .dataframe thead th {\n",
       "        text-align: right;\n",
       "    }\n",
       "</style>\n",
       "<table border=\"1\" class=\"dataframe\">\n",
       "  <thead>\n",
       "    <tr style=\"text-align: right;\">\n",
       "      <th></th>\n",
       "      <th>text</th>\n",
       "      <th>cleaned_text</th>\n",
       "    </tr>\n",
       "  </thead>\n",
       "  <tbody>\n",
       "    <tr>\n",
       "      <th>0</th>\n",
       "      <td>Mainstream media has done an amazing job at br...</td>\n",
       "      <td>mainstream media has done an amazing job at br...</td>\n",
       "    </tr>\n",
       "    <tr>\n",
       "      <th>1</th>\n",
       "      <td>Tesla delivery estimates are at around 364k fr...</td>\n",
       "      <td>tesla delivery estimates are at around k from ...</td>\n",
       "    </tr>\n",
       "    <tr>\n",
       "      <th>2</th>\n",
       "      <td>3/ Even if I include 63.0M unvested RSUs as of...</td>\n",
       "      <td>even if i include m unvested rsus as of  addit...</td>\n",
       "    </tr>\n",
       "  </tbody>\n",
       "</table>\n",
       "</div>"
      ],
      "text/plain": [
       "                                                text  \\\n",
       "0  Mainstream media has done an amazing job at br...   \n",
       "1  Tesla delivery estimates are at around 364k fr...   \n",
       "2  3/ Even if I include 63.0M unvested RSUs as of...   \n",
       "\n",
       "                                        cleaned_text  \n",
       "0  mainstream media has done an amazing job at br...  \n",
       "1  tesla delivery estimates are at around k from ...  \n",
       "2  even if i include m unvested rsus as of  addit...  "
      ]
     },
     "metadata": {},
     "output_type": "display_data"
    }
   ],
   "source": [
    "def clean_text(text):\n",
    "    \"\"\"Robust text cleaning with error handling\"\"\"\n",
    "    if pd.isna(text):\n",
    "        return \"\"\n",
    "    text = str(text)\n",
    "    # Remove URLs, mentions, and special chars\n",
    "    text = re.sub(r'http\\S+|www\\S+|https\\S+', '', text, flags=re.MULTILINE)\n",
    "    text = re.sub(r'@\\w+|#\\w+', '', text)\n",
    "    text = re.sub(r'[^a-zA-Z\\s]', '', text)\n",
    "    return text.lower().strip()\n",
    "\n",
    "# Apply cleaning\n",
    "tweets_df['cleaned_text'] = tweets_df['text'].apply(clean_text)\n",
    "print(\"Text cleaning complete\")\n",
    "display(tweets_df[['text', 'cleaned_text']].head(3))"
   ]
  },
  {
   "cell_type": "markdown",
   "id": "c52cfbfa",
   "metadata": {},
   "source": [
    "SENTIMENT ANALYSIS"
   ]
  },
  {
   "cell_type": "code",
   "execution_count": 13,
   "id": "1e63566e",
   "metadata": {},
   "outputs": [
    {
     "name": "stdout",
     "output_type": "stream",
     "text": [
      " Sentiment scores calculated\n",
      "count    37422.00000\n",
      "mean         0.10290\n",
      "std          0.24888\n",
      "min         -1.00000\n",
      "25%          0.00000\n",
      "50%          0.00000\n",
      "75%          0.23000\n",
      "max          1.00000\n",
      "Name: sentiment, dtype: float64\n"
     ]
    },
    {
     "data": {
      "text/html": [
       "<div>\n",
       "<style scoped>\n",
       "    .dataframe tbody tr th:only-of-type {\n",
       "        vertical-align: middle;\n",
       "    }\n",
       "\n",
       "    .dataframe tbody tr th {\n",
       "        vertical-align: top;\n",
       "    }\n",
       "\n",
       "    .dataframe thead th {\n",
       "        text-align: right;\n",
       "    }\n",
       "</style>\n",
       "<table border=\"1\" class=\"dataframe\">\n",
       "  <thead>\n",
       "    <tr style=\"text-align: right;\">\n",
       "      <th></th>\n",
       "      <th>cleaned_text</th>\n",
       "      <th>sentiment</th>\n",
       "    </tr>\n",
       "  </thead>\n",
       "  <tbody>\n",
       "    <tr>\n",
       "      <th>24581</th>\n",
       "      <td>tesla accepting dogecoin now</td>\n",
       "      <td>0.000000</td>\n",
       "    </tr>\n",
       "    <tr>\n",
       "      <th>8348</th>\n",
       "      <td>thanks while im a tsla bull there are topics w...</td>\n",
       "      <td>0.277143</td>\n",
       "    </tr>\n",
       "    <tr>\n",
       "      <th>15464</th>\n",
       "      <td>breaking  also offers to buy glj research for ...</td>\n",
       "      <td>-0.222222</td>\n",
       "    </tr>\n",
       "  </tbody>\n",
       "</table>\n",
       "</div>"
      ],
      "text/plain": [
       "                                            cleaned_text  sentiment\n",
       "24581                       tesla accepting dogecoin now   0.000000\n",
       "8348   thanks while im a tsla bull there are topics w...   0.277143\n",
       "15464  breaking  also offers to buy glj research for ...  -0.222222"
      ]
     },
     "metadata": {},
     "output_type": "display_data"
    }
   ],
   "source": [
    "# Calculate sentiment polarity\n",
    "tweets_df['sentiment'] = tweets_df['cleaned_text'].apply(\n",
    "    lambda x: TextBlob(x).sentiment.polarity\n",
    ")\n",
    "\n",
    "# Show distribution\n",
    "print(\" Sentiment scores calculated\")\n",
    "print(tweets_df['sentiment'].describe())\n",
    "display(tweets_df[['cleaned_text', 'sentiment']].sample(3))"
   ]
  },
  {
   "cell_type": "markdown",
   "id": "b3fbae20",
   "metadata": {},
   "source": [
    "DAILY AGGREGATION"
   ]
  },
  {
   "cell_type": "code",
   "execution_count": 14,
   "id": "b5669e76",
   "metadata": {},
   "outputs": [
    {
     "name": "stdout",
     "output_type": "stream",
     "text": [
      "Daily sentiment aggregated\n"
     ]
    },
    {
     "data": {
      "text/html": [
       "<div>\n",
       "<style scoped>\n",
       "    .dataframe tbody tr th:only-of-type {\n",
       "        vertical-align: middle;\n",
       "    }\n",
       "\n",
       "    .dataframe tbody tr th {\n",
       "        vertical-align: top;\n",
       "    }\n",
       "\n",
       "    .dataframe thead th {\n",
       "        text-align: right;\n",
       "    }\n",
       "</style>\n",
       "<table border=\"1\" class=\"dataframe\">\n",
       "  <thead>\n",
       "    <tr style=\"text-align: right;\">\n",
       "      <th></th>\n",
       "      <th>avg_sentiment</th>\n",
       "      <th>tweet_count</th>\n",
       "    </tr>\n",
       "    <tr>\n",
       "      <th>date</th>\n",
       "      <th></th>\n",
       "      <th></th>\n",
       "    </tr>\n",
       "  </thead>\n",
       "  <tbody>\n",
       "    <tr>\n",
       "      <th>2021-09-30</th>\n",
       "      <td>0.130081</td>\n",
       "      <td>90</td>\n",
       "    </tr>\n",
       "    <tr>\n",
       "      <th>2021-10-01</th>\n",
       "      <td>0.113493</td>\n",
       "      <td>94</td>\n",
       "    </tr>\n",
       "    <tr>\n",
       "      <th>2021-10-02</th>\n",
       "      <td>0.139779</td>\n",
       "      <td>116</td>\n",
       "    </tr>\n",
       "    <tr>\n",
       "      <th>2021-10-03</th>\n",
       "      <td>0.142316</td>\n",
       "      <td>61</td>\n",
       "    </tr>\n",
       "    <tr>\n",
       "      <th>2021-10-04</th>\n",
       "      <td>0.090901</td>\n",
       "      <td>119</td>\n",
       "    </tr>\n",
       "  </tbody>\n",
       "</table>\n",
       "</div>"
      ],
      "text/plain": [
       "            avg_sentiment  tweet_count\n",
       "date                                  \n",
       "2021-09-30       0.130081           90\n",
       "2021-10-01       0.113493           94\n",
       "2021-10-02       0.139779          116\n",
       "2021-10-03       0.142316           61\n",
       "2021-10-04       0.090901          119"
      ]
     },
     "metadata": {},
     "output_type": "display_data"
    }
   ],
   "source": [
    "# Group by day\n",
    "daily_sentiment = tweets_df.groupby(tweets_df['date'].dt.date).agg(\n",
    "    avg_sentiment=('sentiment', 'mean'),\n",
    "    tweet_count=('sentiment', 'count')\n",
    ")\n",
    "\n",
    "print(\"Daily sentiment aggregated\")\n",
    "display(daily_sentiment.head())"
   ]
  },
  {
   "cell_type": "markdown",
   "id": "eac874aa",
   "metadata": {},
   "source": [
    "MERGE WITH STOCK DATA"
   ]
  },
  {
   "cell_type": "code",
   "execution_count": 15,
   "id": "219ee242",
   "metadata": {},
   "outputs": [
    {
     "name": "stdout",
     "output_type": "stream",
     "text": [
      " Merge successful! Sample:\n"
     ]
    },
    {
     "data": {
      "text/html": [
       "<div>\n",
       "<style scoped>\n",
       "    .dataframe tbody tr th:only-of-type {\n",
       "        vertical-align: middle;\n",
       "    }\n",
       "\n",
       "    .dataframe tbody tr th {\n",
       "        vertical-align: top;\n",
       "    }\n",
       "\n",
       "    .dataframe thead th {\n",
       "        text-align: right;\n",
       "    }\n",
       "</style>\n",
       "<table border=\"1\" class=\"dataframe\">\n",
       "  <thead>\n",
       "    <tr style=\"text-align: right;\">\n",
       "      <th></th>\n",
       "      <th>Date</th>\n",
       "      <th>Close</th>\n",
       "      <th>High</th>\n",
       "      <th>Low</th>\n",
       "      <th>Open</th>\n",
       "      <th>Volume</th>\n",
       "      <th>avg_sentiment</th>\n",
       "      <th>tweet_count</th>\n",
       "      <th>next_day_change</th>\n",
       "    </tr>\n",
       "  </thead>\n",
       "  <tbody>\n",
       "    <tr>\n",
       "      <th>1</th>\n",
       "      <td>2021-09-30</td>\n",
       "      <td>258.493347</td>\n",
       "      <td>263.043335</td>\n",
       "      <td>258.333344</td>\n",
       "      <td>260.333344</td>\n",
       "      <td>53868000.0</td>\n",
       "      <td>0.130081</td>\n",
       "      <td>90.0</td>\n",
       "      <td>-0.000335</td>\n",
       "    </tr>\n",
       "    <tr>\n",
       "      <th>2</th>\n",
       "      <td>2021-10-01</td>\n",
       "      <td>258.406677</td>\n",
       "      <td>260.260010</td>\n",
       "      <td>254.529999</td>\n",
       "      <td>259.466675</td>\n",
       "      <td>51094200.0</td>\n",
       "      <td>0.113493</td>\n",
       "      <td>94.0</td>\n",
       "      <td>0.008140</td>\n",
       "    </tr>\n",
       "    <tr>\n",
       "      <th>3</th>\n",
       "      <td>2021-10-04</td>\n",
       "      <td>260.510010</td>\n",
       "      <td>268.989990</td>\n",
       "      <td>258.706665</td>\n",
       "      <td>265.500000</td>\n",
       "      <td>91449900.0</td>\n",
       "      <td>0.090901</td>\n",
       "      <td>119.0</td>\n",
       "      <td>-0.001203</td>\n",
       "    </tr>\n",
       "  </tbody>\n",
       "</table>\n",
       "</div>"
      ],
      "text/plain": [
       "        Date       Close        High         Low        Open      Volume  \\\n",
       "1 2021-09-30  258.493347  263.043335  258.333344  260.333344  53868000.0   \n",
       "2 2021-10-01  258.406677  260.260010  254.529999  259.466675  51094200.0   \n",
       "3 2021-10-04  260.510010  268.989990  258.706665  265.500000  91449900.0   \n",
       "\n",
       "   avg_sentiment  tweet_count  next_day_change  \n",
       "1       0.130081         90.0        -0.000335  \n",
       "2       0.113493         94.0         0.008140  \n",
       "3       0.090901        119.0        -0.001203  "
      ]
     },
     "metadata": {},
     "output_type": "display_data"
    }
   ],
   "source": [
    "# Merge sentiment with stock prices\n",
    "merged_df = pd.merge(\n",
    "    stock_df,\n",
    "    daily_sentiment,\n",
    "    left_on=stock_df['Date'].dt.date,\n",
    "    right_index=True,\n",
    "    how='left'\n",
    ").ffill()\n",
    "\n",
    "# ----- ADD THIS -----\n",
    "# Convert to numeric (critical fix!)\n",
    "merged_df[['Open', 'High', 'Low', 'Close', 'Volume']] = merged_df[\n",
    "    ['Open', 'High', 'Low', 'Close', 'Volume']\n",
    "].apply(pd.to_numeric, errors='coerce')\n",
    "# -------------------\n",
    "\n",
    "# Now safe to calculate\n",
    "merged_df['next_day_change'] = merged_df['Close'].pct_change().shift(-1)\n",
    "merged_df.dropna(inplace=True)\n",
    "\n",
    "print(\" Merge successful! Sample:\")\n",
    "display(merged_df.head(3))"
   ]
  },
  {
   "cell_type": "markdown",
   "id": "fd04ae5d",
   "metadata": {},
   "source": [
    "SAVE PROCESSED DATA"
   ]
  },
  {
   "cell_type": "code",
   "execution_count": 16,
   "id": "bba727dc",
   "metadata": {},
   "outputs": [
    {
     "name": "stdout",
     "output_type": "stream",
     "text": [
      "\n",
      "Processing complete!\n",
      "Saved to: data/processed/TSLA_final.csv\n",
      "Final shape: (252, 9)\n",
      "Date range: 2021-09-30 00:00:00 to 2022-09-29 00:00:00\n",
      "\n"
     ]
    }
   ],
   "source": [
    "# Save final dataset\n",
    "merged_df.to_csv(f\"data/processed/{STOCK_SYMBOL}_final.csv\", index=False)\n",
    "print(f\"\"\"\n",
    "Processing complete!\n",
    "Saved to: data/processed/{STOCK_SYMBOL}_final.csv\n",
    "Final shape: {merged_df.shape}\n",
    "Date range: {merged_df['Date'].min()} to {merged_df['Date'].max()}\n",
    "\"\"\")"
   ]
  },
  {
   "cell_type": "code",
   "execution_count": 17,
   "id": "bc8c37ee",
   "metadata": {},
   "outputs": [
    {
     "name": "stdout",
     "output_type": "stream",
     "text": [
      "Tweets date range: 2021-09-30 01:16:13+00:00 to 2022-09-29 23:41:16+00:00\n",
      "Stock date range: 2021-09-30 00:00:00 to 2022-09-30 00:00:00\n",
      "\n",
      "Sample merge keys:\n",
      "Tweets dates: [datetime.date(2022, 9, 29) datetime.date(2022, 9, 29)\n",
      " datetime.date(2022, 9, 29)]\n",
      "Stock dates: [NaT datetime.date(2021, 9, 30) datetime.date(2021, 10, 1)]\n"
     ]
    }
   ],
   "source": [
    "# Cell 1: Verifying input data\n",
    "print(\"Tweets date range:\", tweets_df['date'].min(), \"to\", tweets_df['date'].max())\n",
    "print(\"Stock date range:\", stock_df['Date'].min(), \"to\", stock_df['Date'].max())\n",
    "\n",
    "# Cell 2: Checking merge keys\n",
    "print(\"\\nSample merge keys:\")\n",
    "print(\"Tweets dates:\", tweets_df['date'].dt.date.head(3).values)\n",
    "print(\"Stock dates:\", stock_df['Date'].dt.date.head(3).values)"
   ]
  }
 ],
 "metadata": {
  "kernelspec": {
   "display_name": "base",
   "language": "python",
   "name": "python3"
  },
  "language_info": {
   "codemirror_mode": {
    "name": "ipython",
    "version": 3
   },
   "file_extension": ".py",
   "mimetype": "text/x-python",
   "name": "python",
   "nbconvert_exporter": "python",
   "pygments_lexer": "ipython3",
   "version": "3.11.7"
  }
 },
 "nbformat": 4,
 "nbformat_minor": 5
}
