{
 "cells": [
  {
   "cell_type": "code",
   "execution_count": 1,
   "id": "6ccffe80",
   "metadata": {},
   "outputs": [],
   "source": [
    "import os\n",
    "import pandas as pd\n",
    "import yfinance as yf\n",
    "from kaggle.api.kaggle_api_extended import KaggleApi\n",
    "from datetime import datetime, timedelta"
   ]
  },
  {
   "cell_type": "code",
   "execution_count": 2,
   "id": "c19f0b79",
   "metadata": {},
   "outputs": [],
   "source": [
    "\n",
    "# Configuration\n",
    "STOCK_SYMBOL = \"TSLA\"  # Example: TESLA\n",
    "os.makedirs(\"data/raw\", exist_ok=True)"
   ]
  },
  {
   "cell_type": "code",
   "execution_count": 3,
   "id": "8c49294b",
   "metadata": {},
   "outputs": [],
   "source": [
    "# --------------------------------------------------------------------------\n",
    "# STEP 1: Download and Process Kaggle Dataset (Tweets)\n",
    "# --------------------------------------------------------------------------\n",
    "def download_tweets():\n",
    "    try:\n",
    "        api = KaggleApi()\n",
    "        api.authenticate()\n",
    "        api.dataset_download_files(\n",
    "            \"equinxx/stock-tweets-for-sentiment-analysis-and-prediction\",\n",
    "            path=\"data/raw\",\n",
    "            unzip=True\n",
    "        )\n",
    "        print(\"Kaggle dataset downloaded and unzipped\")\n",
    "        \n",
    "        # Load and filter for TSLA tweets\n",
    "        tweets_df = pd.read_csv(\"data/raw/stock_tweets.csv\")\n",
    "        tsla_tweets = tweets_df[tweets_df['Stock Name'] == STOCK_SYMBOL].copy()\n",
    "        \n",
    "        # Standardize column names\n",
    "        tsla_tweets = tsla_tweets.rename(columns={\n",
    "            'Date': 'date',\n",
    "            'Tweet': 'text'\n",
    "        })[['date', 'text']]  # Keep only needed columns\n",
    "        \n",
    "        # Save processed tweets\n",
    "        tsla_tweets.to_csv(f\"data/raw/{STOCK_SYMBOL}_tweets.csv\", index=False)\n",
    "        print(f\"Saved {len(tsla_tweets)} TSLA tweets\")\n",
    "        \n",
    "        # Get date range\n",
    "        tsla_tweets['date'] = pd.to_datetime(tsla_tweets['date'])\n",
    "        return tsla_tweets['date'].min(), tsla_tweets['date'].max()\n",
    "    \n",
    "    except Exception as e:\n",
    "        print(f\"Error processing tweets: {e}\")\n",
    "        # Create empty file\n",
    "        pd.DataFrame(columns=['date', 'text']).to_csv(\n",
    "            f\"data/raw/{STOCK_SYMBOL}_tweets.csv\", \n",
    "            index=False\n",
    "        )\n",
    "        print(f\"Created empty {STOCK_SYMBOL}_tweets.csv as fallback\")\n",
    "        return None, None"
   ]
  },
  {
   "cell_type": "code",
   "execution_count": 4,
   "id": "66c5ce25",
   "metadata": {},
   "outputs": [],
   "source": [
    "# --------------------------------------------------------------------------\n",
    "# STEP 2: Fetch Stock Prices (Aligned with Tweets)\n",
    "# --------------------------------------------------------------------------\n",
    "def download_stock_prices(start_date=None, end_date=None):\n",
    "    try:\n",
    "        if start_date and end_date:\n",
    "            print(f\"Fetching stock data for {start_date.date()} to {end_date.date()}\")\n",
    "            stock_data = yf.download(\n",
    "                STOCK_SYMBOL,\n",
    "                start=start_date,\n",
    "                end=end_date + timedelta(days=1),\n",
    "                progress=False\n",
    "            )\n",
    "        else:\n",
    "            print(\"Using default 1-year period for stock data\")\n",
    "            stock_data = yf.download(\n",
    "                STOCK_SYMBOL,\n",
    "                period=\"1y\",\n",
    "                progress=False\n",
    "            )\n",
    "        \n",
    "        stock_data.reset_index(inplace=True)\n",
    "        stock_data.to_csv(\n",
    "            f\"data/raw/{STOCK_SYMBOL}_prices.csv\", \n",
    "            index=False\n",
    "        )\n",
    "        print(f\"Saved {len(stock_data)} days of stock data\")\n",
    "    \n",
    "    except Exception as e:\n",
    "        print(f\"Yahoo Finance failed: {e}\")\n",
    "        pd.DataFrame(columns=['Date', 'Open', 'High', 'Low', 'Close', 'Volume']).to_csv(\n",
    "            f\"data/raw/{STOCK_SYMBOL}_prices.csv\", \n",
    "            index=False\n",
    "        )\n",
    "        print(f\"Created empty {STOCK_SYMBOL}_prices.csv as fallback\")"
   ]
  },
  {
   "cell_type": "code",
   "execution_count": 5,
   "id": "f23e22ba",
   "metadata": {},
   "outputs": [
    {
     "name": "stdout",
     "output_type": "stream",
     "text": [
      "🔍 Starting data collection...\n",
      "Dataset URL: https://www.kaggle.com/datasets/equinxx/stock-tweets-for-sentiment-analysis-and-prediction\n",
      "Kaggle dataset downloaded and unzipped\n",
      "Saved 37422 TSLA tweets\n",
      "Fetching stock data for 2021-09-30 to 2022-09-29\n",
      "YF.download() has changed argument auto_adjust default to True\n",
      "Saved 253 days of stock data\n",
      "\n",
      "✅ Data collection complete!\n",
      "- Tweets: data/raw/TSLA_tweets.csv\n",
      "- Prices: data/raw/TSLA_prices.csv\n"
     ]
    }
   ],
   "source": [
    "# --------------------------------------------------------------------------\n",
    "# RUN PIPELINE\n",
    "# --------------------------------------------------------------------------\n",
    "print(\"🔍 Starting data collection...\")\n",
    "date_range = download_tweets()\n",
    "\n",
    "if date_range[0] and date_range[1]:\n",
    "    download_stock_prices(date_range[0], date_range[1])\n",
    "else:\n",
    "    print(\"⚠️ Proceeding with default stock data download\")\n",
    "    download_stock_prices()\n",
    "\n",
    "print(\"\\n✅ Data collection complete!\")\n",
    "print(f\"- Tweets: data/raw/{STOCK_SYMBOL}_tweets.csv\")\n",
    "print(f\"- Prices: data/raw/{STOCK_SYMBOL}_prices.csv\")"
   ]
  }
 ],
 "metadata": {
  "kernelspec": {
   "display_name": "base",
   "language": "python",
   "name": "python3"
  },
  "language_info": {
   "codemirror_mode": {
    "name": "ipython",
    "version": 3
   },
   "file_extension": ".py",
   "mimetype": "text/x-python",
   "name": "python",
   "nbconvert_exporter": "python",
   "pygments_lexer": "ipython3",
   "version": "3.11.7"
  }
 },
 "nbformat": 4,
 "nbformat_minor": 5
}
